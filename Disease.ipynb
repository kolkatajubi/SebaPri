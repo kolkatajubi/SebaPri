{
 "cells": [
  {
   "cell_type": "code",
   "execution_count": 1,
   "metadata": {},
   "outputs": [],
   "source": [
    "have_disease=0.001\n",
    "not_have_disease=1-have_disease\n",
    "accuracy=0.985\n",
    "no_accuracy=1-accuracy"
   ]
  },
  {
   "cell_type": "code",
   "execution_count": 2,
   "metadata": {},
   "outputs": [],
   "source": [
    "P_Disease_Positive=(have_disease*accuracy)/(have_disease*accuracy+not_have_disease*no_accuracy)\n",
    "P_noDisease_Positive=(not_have_disease*no_accuracy)/(have_disease*accuracy+not_have_disease*no_accuracy)"
   ]
  },
  {
   "cell_type": "code",
   "execution_count": 3,
   "metadata": {},
   "outputs": [
    {
     "name": "stdout",
     "output_type": "stream",
     "text": [
      "0.061678146524733815\n",
      "0.9383218534752661\n"
     ]
    }
   ],
   "source": [
    "print (P_Disease_Positive)\n",
    "print (P_noDisease_Positive)"
   ]
  },
  {
   "cell_type": "code",
   "execution_count": 6,
   "metadata": {},
   "outputs": [
    {
     "name": "stdout",
     "output_type": "stream",
     "text": [
      "Test Number :  1\n",
      "Probability :  0.999\n"
     ]
    }
   ],
   "source": [
    "number_of_test=0\n",
    "P_noDisease_Positive_Negative=P_noDisease_Positive\n",
    "P_Disease_Positive_Negative=P_Disease_Positive\n",
    "while(P_noDisease_Positive_Negative<0.99):\n",
    "    number_of_test+=1\n",
    "    P_noDisease_Positive_Negative=(P_noDisease_Positive_Negative*accuracy)/(P_noDisease_Positive*accuracy+P_Disease_Positive_Negative*no_accuracy)\n",
    "    print (\"Test Number : \",number_of_test)\n",
    "    print (\"Probability : \",P_noDisease_Positive_Negative)\n"
   ]
  },
  {
   "cell_type": "code",
   "execution_count": null,
   "metadata": {},
   "outputs": [],
   "source": []
  },
  {
   "cell_type": "code",
   "execution_count": null,
   "metadata": {},
   "outputs": [],
   "source": []
  }
 ],
 "metadata": {
  "kernelspec": {
   "display_name": "Python 3",
   "language": "python",
   "name": "python3"
  },
  "language_info": {
   "codemirror_mode": {
    "name": "ipython",
    "version": 3
   },
   "file_extension": ".py",
   "mimetype": "text/x-python",
   "name": "python",
   "nbconvert_exporter": "python",
   "pygments_lexer": "ipython3",
   "version": "3.7.3"
  }
 },
 "nbformat": 4,
 "nbformat_minor": 2
}
